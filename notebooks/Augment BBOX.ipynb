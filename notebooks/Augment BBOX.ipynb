{
 "cells": [
  {
   "cell_type": "code",
   "execution_count": 1,
   "id": "dac56970",
   "metadata": {},
   "outputs": [],
   "source": [
    "import sys\n",
    "import os\n",
    "\n",
    "import pandas as pd\n",
    "import numpy as np\n",
    "\n",
    "import random"
   ]
  },
  {
   "cell_type": "code",
   "execution_count": 2,
   "id": "537f91ee",
   "metadata": {},
   "outputs": [],
   "source": [
    "sys.path.insert(0, '..\\\\scripts')\n",
    "# sys.path.insert(0, '../scripts')"
   ]
  },
  {
   "cell_type": "code",
   "execution_count": 3,
   "id": "893ba77e",
   "metadata": {},
   "outputs": [],
   "source": [
    "import extract_annotations as E\n",
    "import export as EXP"
   ]
  },
  {
   "cell_type": "code",
   "execution_count": 5,
   "id": "2354aa3d",
   "metadata": {},
   "outputs": [],
   "source": [
    "RAW_DATA = E.extract()"
   ]
  },
  {
   "cell_type": "code",
   "execution_count": 6,
   "id": "1f154dea",
   "metadata": {},
   "outputs": [
    {
     "name": "stdout",
     "output_type": "stream",
     "text": [
      "188\n",
      "['D:\\\\Personal\\\\sign_recognition\\\\notebooks\\\\..\\\\scripts\\\\../data\\\\001_png.rf.3d1d6e6d159f158bcb7ef6533f607641.jpg', [16], [[0.1453125, 0.35390625, 0.0390625, 0.0625, 'no_u_turn']]]\n"
     ]
    }
   ],
   "source": [
    "LABELS = RAW_DATA[\"labels\"]\n",
    "DATA = RAW_DATA['data']\n",
    "print(len(DATA))\n",
    "print(DATA[0])"
   ]
  },
  {
   "cell_type": "code",
   "execution_count": null,
   "id": "34aef670",
   "metadata": {},
   "outputs": [],
   "source": []
  },
  {
   "cell_type": "code",
   "execution_count": 7,
   "id": "06da66e2",
   "metadata": {},
   "outputs": [
    {
     "data": {
      "text/plain": [
       "[[0.44921875, 0.34296875, 0.0484375, 0.05625, 'bus_stop']]"
      ]
     },
     "execution_count": 7,
     "metadata": {},
     "output_type": "execute_result"
    }
   ],
   "source": [
    "DATA[23][2]"
   ]
  },
  {
   "cell_type": "code",
   "execution_count": 8,
   "id": "9c651fee",
   "metadata": {},
   "outputs": [],
   "source": [
    "BBOX_DATA = []\n",
    "for D in DATA:\n",
    "    for coord in D[2]:\n",
    "        BBOX = np.concatenate((np.array(D[0]),np.array(coord, object)), axis=None)\n",
    "        BBOX_DATA.append(BBOX)"
   ]
  },
  {
   "cell_type": "code",
   "execution_count": 9,
   "id": "3af4e308",
   "metadata": {},
   "outputs": [],
   "source": [
    "BBOX_DATA = np.array(BBOX_DATA)"
   ]
  },
  {
   "cell_type": "code",
   "execution_count": 10,
   "id": "93b1f5f1",
   "metadata": {},
   "outputs": [
    {
     "data": {
      "text/plain": [
       "(277, 6)"
      ]
     },
     "execution_count": 10,
     "metadata": {},
     "output_type": "execute_result"
    }
   ],
   "source": [
    "BBOX_DATA.shape"
   ]
  },
  {
   "cell_type": "code",
   "execution_count": 11,
   "id": "a507f44e",
   "metadata": {},
   "outputs": [],
   "source": [
    "BBOX_X = BBOX_DATA.T[0]\n",
    "BBOX_Y = BBOX_DATA.T[1]"
   ]
  },
  {
   "cell_type": "code",
   "execution_count": 12,
   "id": "6a686481",
   "metadata": {},
   "outputs": [
    {
     "name": "stdout",
     "output_type": "stream",
     "text": [
      "(277,) (277,)\n"
     ]
    }
   ],
   "source": [
    "print(BBOX_X.shape, BBOX_Y.shape)"
   ]
  },
  {
   "cell_type": "code",
   "execution_count": 13,
   "id": "46e0abce",
   "metadata": {},
   "outputs": [
    {
     "data": {
      "text/plain": [
       "array([['D:\\\\Personal\\\\sign_recognition\\\\notebooks\\\\..\\\\scripts\\\\../data\\\\001_png.rf.3d1d6e6d159f158bcb7ef6533f607641.jpg',\n",
       "        0.1453125, 0.35390625, 0.0390625, 0.0625, 'no_u_turn'],\n",
       "       ['D:\\\\Personal\\\\sign_recognition\\\\notebooks\\\\..\\\\scripts\\\\../data\\\\002_png.rf.2de2b96871e0ca6582cb3cda753d1ccf.jpg',\n",
       "        0.309375, 0.3359375, 0.13828125, 0.0796875, 'directional_normal'],\n",
       "       ['D:\\\\Personal\\\\sign_recognition\\\\notebooks\\\\..\\\\scripts\\\\../data\\\\002_png.rf.2de2b96871e0ca6582cb3cda753d1ccf.jpg',\n",
       "        0.5390625, 0.38046875, 0.03359375, 0.0421875,\n",
       "        'pedestrian_crossing_ahead'],\n",
       "       ...,\n",
       "       ['D:\\\\Personal\\\\sign_recognition\\\\notebooks\\\\..\\\\scripts\\\\../data\\\\189_png.rf.b6f49b7e021679138acc748616e3acde.jpg',\n",
       "        0.0109375, 0.365625, 0.021875, 0.04375, 'no_parking'],\n",
       "       ['D:\\\\Personal\\\\sign_recognition\\\\notebooks\\\\..\\\\scripts\\\\../data\\\\189_png.rf.b6f49b7e021679138acc748616e3acde.jpg',\n",
       "        0.271875, 0.334375, 0.02109375, 0.0296875, 'no_parking'],\n",
       "       ['D:\\\\Personal\\\\sign_recognition\\\\notebooks\\\\..\\\\scripts\\\\../data\\\\190_png.rf.1f5f18ee801445fb1866a8a08d94f205.jpg',\n",
       "        0.09375, 0.2, 0.125, 0.19609375, 'no_parking']], dtype=object)"
      ]
     },
     "execution_count": 13,
     "metadata": {},
     "output_type": "execute_result"
    }
   ],
   "source": [
    "BBOX_DATA"
   ]
  },
  {
   "cell_type": "code",
   "execution_count": 18,
   "id": "1405ce01",
   "metadata": {},
   "outputs": [],
   "source": [
    "df = pd.DataFrame(BBOX_DATA, columns = ['path','norm_x_center','norm_y_center', 'norm_width', 'norm_height', 'label' ])"
   ]
  },
  {
   "cell_type": "code",
   "execution_count": 19,
   "id": "9ff09d6b",
   "metadata": {},
   "outputs": [],
   "source": [
    "df[\"norm_area\"] = df[\"norm_width\"] * df[\"norm_height\"]"
   ]
  },
  {
   "cell_type": "code",
   "execution_count": 20,
   "id": "cd8468de",
   "metadata": {},
   "outputs": [
    {
     "data": {
      "text/html": [
       "<div>\n",
       "<style scoped>\n",
       "    .dataframe tbody tr th:only-of-type {\n",
       "        vertical-align: middle;\n",
       "    }\n",
       "\n",
       "    .dataframe tbody tr th {\n",
       "        vertical-align: top;\n",
       "    }\n",
       "\n",
       "    .dataframe thead th {\n",
       "        text-align: right;\n",
       "    }\n",
       "</style>\n",
       "<table border=\"1\" class=\"dataframe\">\n",
       "  <thead>\n",
       "    <tr style=\"text-align: right;\">\n",
       "      <th></th>\n",
       "      <th>path</th>\n",
       "      <th>norm_x_center</th>\n",
       "      <th>norm_y_center</th>\n",
       "      <th>norm_width</th>\n",
       "      <th>norm_height</th>\n",
       "      <th>label</th>\n",
       "      <th>norm_area</th>\n",
       "    </tr>\n",
       "  </thead>\n",
       "  <tbody>\n",
       "    <tr>\n",
       "      <th>0</th>\n",
       "      <td>D:\\Personal\\sign_recognition\\notebooks\\..\\scri...</td>\n",
       "      <td>0.145313</td>\n",
       "      <td>0.353906</td>\n",
       "      <td>0.039062</td>\n",
       "      <td>0.0625</td>\n",
       "      <td>no_u_turn</td>\n",
       "      <td>0.002441</td>\n",
       "    </tr>\n",
       "    <tr>\n",
       "      <th>1</th>\n",
       "      <td>D:\\Personal\\sign_recognition\\notebooks\\..\\scri...</td>\n",
       "      <td>0.309375</td>\n",
       "      <td>0.335938</td>\n",
       "      <td>0.138281</td>\n",
       "      <td>0.079687</td>\n",
       "      <td>directional_normal</td>\n",
       "      <td>0.011019</td>\n",
       "    </tr>\n",
       "    <tr>\n",
       "      <th>2</th>\n",
       "      <td>D:\\Personal\\sign_recognition\\notebooks\\..\\scri...</td>\n",
       "      <td>0.539062</td>\n",
       "      <td>0.380469</td>\n",
       "      <td>0.033594</td>\n",
       "      <td>0.042188</td>\n",
       "      <td>pedestrian_crossing_ahead</td>\n",
       "      <td>0.001417</td>\n",
       "    </tr>\n",
       "    <tr>\n",
       "      <th>3</th>\n",
       "      <td>D:\\Personal\\sign_recognition\\notebooks\\..\\scri...</td>\n",
       "      <td>0.304688</td>\n",
       "      <td>0.303125</td>\n",
       "      <td>0.219531</td>\n",
       "      <td>0.120313</td>\n",
       "      <td>directional_normal</td>\n",
       "      <td>0.026412</td>\n",
       "    </tr>\n",
       "    <tr>\n",
       "      <th>4</th>\n",
       "      <td>D:\\Personal\\sign_recognition\\notebooks\\..\\scri...</td>\n",
       "      <td>0.360156</td>\n",
       "      <td>0.307812</td>\n",
       "      <td>0.050781</td>\n",
       "      <td>0.064844</td>\n",
       "      <td>pedestrian_crossing</td>\n",
       "      <td>0.003293</td>\n",
       "    </tr>\n",
       "    <tr>\n",
       "      <th>...</th>\n",
       "      <td>...</td>\n",
       "      <td>...</td>\n",
       "      <td>...</td>\n",
       "      <td>...</td>\n",
       "      <td>...</td>\n",
       "      <td>...</td>\n",
       "      <td>...</td>\n",
       "    </tr>\n",
       "    <tr>\n",
       "      <th>272</th>\n",
       "      <td>D:\\Personal\\sign_recognition\\notebooks\\..\\scri...</td>\n",
       "      <td>0.492188</td>\n",
       "      <td>0.267969</td>\n",
       "      <td>0.060156</td>\n",
       "      <td>0.09375</td>\n",
       "      <td>expressway_entrance_end</td>\n",
       "      <td>0.00564</td>\n",
       "    </tr>\n",
       "    <tr>\n",
       "      <th>273</th>\n",
       "      <td>D:\\Personal\\sign_recognition\\notebooks\\..\\scri...</td>\n",
       "      <td>0.358594</td>\n",
       "      <td>0.366406</td>\n",
       "      <td>0.102344</td>\n",
       "      <td>0.172656</td>\n",
       "      <td>expressway_entrance_end</td>\n",
       "      <td>0.01767</td>\n",
       "    </tr>\n",
       "    <tr>\n",
       "      <th>274</th>\n",
       "      <td>D:\\Personal\\sign_recognition\\notebooks\\..\\scri...</td>\n",
       "      <td>0.010937</td>\n",
       "      <td>0.365625</td>\n",
       "      <td>0.021875</td>\n",
       "      <td>0.04375</td>\n",
       "      <td>no_parking</td>\n",
       "      <td>0.000957</td>\n",
       "    </tr>\n",
       "    <tr>\n",
       "      <th>275</th>\n",
       "      <td>D:\\Personal\\sign_recognition\\notebooks\\..\\scri...</td>\n",
       "      <td>0.271875</td>\n",
       "      <td>0.334375</td>\n",
       "      <td>0.021094</td>\n",
       "      <td>0.029687</td>\n",
       "      <td>no_parking</td>\n",
       "      <td>0.000626</td>\n",
       "    </tr>\n",
       "    <tr>\n",
       "      <th>276</th>\n",
       "      <td>D:\\Personal\\sign_recognition\\notebooks\\..\\scri...</td>\n",
       "      <td>0.09375</td>\n",
       "      <td>0.2</td>\n",
       "      <td>0.125</td>\n",
       "      <td>0.196094</td>\n",
       "      <td>no_parking</td>\n",
       "      <td>0.024512</td>\n",
       "    </tr>\n",
       "  </tbody>\n",
       "</table>\n",
       "<p>277 rows × 7 columns</p>\n",
       "</div>"
      ],
      "text/plain": [
       "                                                  path norm_x_center   \n",
       "0    D:\\Personal\\sign_recognition\\notebooks\\..\\scri...      0.145313  \\\n",
       "1    D:\\Personal\\sign_recognition\\notebooks\\..\\scri...      0.309375   \n",
       "2    D:\\Personal\\sign_recognition\\notebooks\\..\\scri...      0.539062   \n",
       "3    D:\\Personal\\sign_recognition\\notebooks\\..\\scri...      0.304688   \n",
       "4    D:\\Personal\\sign_recognition\\notebooks\\..\\scri...      0.360156   \n",
       "..                                                 ...           ...   \n",
       "272  D:\\Personal\\sign_recognition\\notebooks\\..\\scri...      0.492188   \n",
       "273  D:\\Personal\\sign_recognition\\notebooks\\..\\scri...      0.358594   \n",
       "274  D:\\Personal\\sign_recognition\\notebooks\\..\\scri...      0.010937   \n",
       "275  D:\\Personal\\sign_recognition\\notebooks\\..\\scri...      0.271875   \n",
       "276  D:\\Personal\\sign_recognition\\notebooks\\..\\scri...       0.09375   \n",
       "\n",
       "    norm_y_center norm_width norm_height                      label norm_area  \n",
       "0        0.353906   0.039062      0.0625                  no_u_turn  0.002441  \n",
       "1        0.335938   0.138281    0.079687         directional_normal  0.011019  \n",
       "2        0.380469   0.033594    0.042188  pedestrian_crossing_ahead  0.001417  \n",
       "3        0.303125   0.219531    0.120313         directional_normal  0.026412  \n",
       "4        0.307812   0.050781    0.064844        pedestrian_crossing  0.003293  \n",
       "..            ...        ...         ...                        ...       ...  \n",
       "272      0.267969   0.060156     0.09375    expressway_entrance_end   0.00564  \n",
       "273      0.366406   0.102344    0.172656    expressway_entrance_end   0.01767  \n",
       "274      0.365625   0.021875     0.04375                 no_parking  0.000957  \n",
       "275      0.334375   0.021094    0.029687                 no_parking  0.000626  \n",
       "276           0.2      0.125    0.196094                 no_parking  0.024512  \n",
       "\n",
       "[277 rows x 7 columns]"
      ]
     },
     "execution_count": 20,
     "metadata": {},
     "output_type": "execute_result"
    }
   ],
   "source": [
    "df"
   ]
  },
  {
   "cell_type": "code",
   "execution_count": 21,
   "id": "fc97f0ec",
   "metadata": {},
   "outputs": [
    {
     "data": {
      "text/html": [
       "<div>\n",
       "<style scoped>\n",
       "    .dataframe tbody tr th:only-of-type {\n",
       "        vertical-align: middle;\n",
       "    }\n",
       "\n",
       "    .dataframe tbody tr th {\n",
       "        vertical-align: top;\n",
       "    }\n",
       "\n",
       "    .dataframe thead th {\n",
       "        text-align: right;\n",
       "    }\n",
       "</style>\n",
       "<table border=\"1\" class=\"dataframe\">\n",
       "  <thead>\n",
       "    <tr style=\"text-align: right;\">\n",
       "      <th></th>\n",
       "      <th>path</th>\n",
       "      <th>norm_x_center</th>\n",
       "      <th>norm_y_center</th>\n",
       "      <th>norm_width</th>\n",
       "      <th>norm_height</th>\n",
       "      <th>label</th>\n",
       "      <th>norm_area</th>\n",
       "    </tr>\n",
       "  </thead>\n",
       "  <tbody>\n",
       "    <tr>\n",
       "      <th>count</th>\n",
       "      <td>277</td>\n",
       "      <td>277.000000</td>\n",
       "      <td>277.000000</td>\n",
       "      <td>277.000000</td>\n",
       "      <td>277.000000</td>\n",
       "      <td>277</td>\n",
       "      <td>277.000000</td>\n",
       "    </tr>\n",
       "    <tr>\n",
       "      <th>unique</th>\n",
       "      <td>188</td>\n",
       "      <td>238.000000</td>\n",
       "      <td>213.000000</td>\n",
       "      <td>134.000000</td>\n",
       "      <td>125.000000</td>\n",
       "      <td>29</td>\n",
       "      <td>263.000000</td>\n",
       "    </tr>\n",
       "    <tr>\n",
       "      <th>top</th>\n",
       "      <td>D:\\Personal\\sign_recognition\\notebooks\\..\\scri...</td>\n",
       "      <td>0.514062</td>\n",
       "      <td>0.392188</td>\n",
       "      <td>0.035937</td>\n",
       "      <td>0.065625</td>\n",
       "      <td>directional_express_way</td>\n",
       "      <td>0.006724</td>\n",
       "    </tr>\n",
       "    <tr>\n",
       "      <th>freq</th>\n",
       "      <td>5</td>\n",
       "      <td>4.000000</td>\n",
       "      <td>6.000000</td>\n",
       "      <td>8.000000</td>\n",
       "      <td>9.000000</td>\n",
       "      <td>35</td>\n",
       "      <td>2.000000</td>\n",
       "    </tr>\n",
       "  </tbody>\n",
       "</table>\n",
       "</div>"
      ],
      "text/plain": [
       "                                                     path  norm_x_center   \n",
       "count                                                 277     277.000000  \\\n",
       "unique                                                188     238.000000   \n",
       "top     D:\\Personal\\sign_recognition\\notebooks\\..\\scri...       0.514062   \n",
       "freq                                                    5       4.000000   \n",
       "\n",
       "        norm_y_center  norm_width  norm_height                    label   \n",
       "count      277.000000  277.000000   277.000000                      277  \\\n",
       "unique     213.000000  134.000000   125.000000                       29   \n",
       "top          0.392188    0.035937     0.065625  directional_express_way   \n",
       "freq         6.000000    8.000000     9.000000                       35   \n",
       "\n",
       "         norm_area  \n",
       "count   277.000000  \n",
       "unique  263.000000  \n",
       "top       0.006724  \n",
       "freq      2.000000  "
      ]
     },
     "execution_count": 21,
     "metadata": {},
     "output_type": "execute_result"
    }
   ],
   "source": [
    "df.describe()"
   ]
  },
  {
   "cell_type": "code",
   "execution_count": 22,
   "id": "5ac13ca6",
   "metadata": {},
   "outputs": [
    {
     "data": {
      "text/plain": [
       "<Axes: ylabel='Density'>"
      ]
     },
     "execution_count": 22,
     "metadata": {},
     "output_type": "execute_result"
    },
    {
     "data": {
      "image/png": "[encoded data removed]",
      "text/plain": [
       "<Figure size 640x480 with 1 Axes>"
      ]
     },
     "metadata": {},
     "output_type": "display_data"
    }
   ],
   "source": [
    "df['norm_area'].plot(kind='kde')"
   ]
  },
  {
   "cell_type": "code",
   "execution_count": 23,
   "id": "5af26388",
   "metadata": {},
   "outputs": [
    {
     "data": {
      "text/plain": [
       "label\n",
       "T_juc_ahead                   Axes(0.125,0.11;0.775x0.77)\n",
       "bus_stop                      Axes(0.125,0.11;0.775x0.77)\n",
       "chevron_markers               Axes(0.125,0.11;0.775x0.77)\n",
       "directional_express_way       Axes(0.125,0.11;0.775x0.77)\n",
       "directional_normal            Axes(0.125,0.11;0.775x0.77)\n",
       "expressway_entrance_end       Axes(0.125,0.11;0.775x0.77)\n",
       "expressway_entrance_start     Axes(0.125,0.11;0.775x0.77)\n",
       "height_limit                  Axes(0.125,0.11;0.775x0.77)\n",
       "left_merges_ahead             Axes(0.125,0.11;0.775x0.77)\n",
       "level_crossing                Axes(0.125,0.11;0.775x0.77)\n",
       "level_crossing_gates_ahead    Axes(0.125,0.11;0.775x0.77)\n",
       "light_signal_ahead            Axes(0.125,0.11;0.775x0.77)\n",
       "no_entry                      Axes(0.125,0.11;0.775x0.77)\n",
       "no_left_turn                  Axes(0.125,0.11;0.775x0.77)\n",
       "no_parking                    Axes(0.125,0.11;0.775x0.77)\n",
       "no_right_turn                 Axes(0.125,0.11;0.775x0.77)\n",
       "no_u_turn                     Axes(0.125,0.11;0.775x0.77)\n",
       "other                         Axes(0.125,0.11;0.775x0.77)\n",
       "parking                       Axes(0.125,0.11;0.775x0.77)\n",
       "pass_left                     Axes(0.125,0.11;0.775x0.77)\n",
       "pedestrian_crossing           Axes(0.125,0.11;0.775x0.77)\n",
       "pedestrian_crossing_ahead     Axes(0.125,0.11;0.775x0.77)\n",
       "right_bend_ahead              Axes(0.125,0.11;0.775x0.77)\n",
       "right_merges_ahead            Axes(0.125,0.11;0.775x0.77)\n",
       "roundabout                    Axes(0.125,0.11;0.775x0.77)\n",
       "speed_limit                   Axes(0.125,0.11;0.775x0.77)\n",
       "staggered_junc_ahead          Axes(0.125,0.11;0.775x0.77)\n",
       "stop                          Axes(0.125,0.11;0.775x0.77)\n",
       "turn_right                    Axes(0.125,0.11;0.775x0.77)\n",
       "Name: norm_area, dtype: object"
      ]
     },
     "execution_count": 23,
     "metadata": {},
     "output_type": "execute_result"
    },
    {
     "data": {
      "image/png": "[encoded data removed]",
      "text/plain": [
       "<Figure size 640x480 with 1 Axes>"
      ]
     },
     "metadata": {},
     "output_type": "display_data"
    }
   ],
   "source": [
    "df.groupby('label').norm_area.hist()"
   ]
  },
  {
   "cell_type": "code",
   "execution_count": null,
   "id": "7e9c18bb",
   "metadata": {},
   "outputs": [],
   "source": []
  },
  {
   "cell_type": "code",
   "execution_count": 24,
   "id": "c9bb7ce4",
   "metadata": {},
   "outputs": [
    {
     "data": {
      "text/html": [
       "<div>\n",
       "<style scoped>\n",
       "    .dataframe tbody tr th:only-of-type {\n",
       "        vertical-align: middle;\n",
       "    }\n",
       "\n",
       "    .dataframe tbody tr th {\n",
       "        vertical-align: top;\n",
       "    }\n",
       "\n",
       "    .dataframe thead th {\n",
       "        text-align: right;\n",
       "    }\n",
       "</style>\n",
       "<table border=\"1\" class=\"dataframe\">\n",
       "  <thead>\n",
       "    <tr style=\"text-align: right;\">\n",
       "      <th></th>\n",
       "      <th>path</th>\n",
       "      <th>norm_x_center</th>\n",
       "      <th>norm_y_center</th>\n",
       "      <th>norm_width</th>\n",
       "      <th>norm_height</th>\n",
       "      <th>label</th>\n",
       "      <th>norm_area</th>\n",
       "    </tr>\n",
       "  </thead>\n",
       "  <tbody>\n",
       "    <tr>\n",
       "      <th>106</th>\n",
       "      <td>D:\\Personal\\sign_recognition\\notebooks\\..\\scri...</td>\n",
       "      <td>0.66875</td>\n",
       "      <td>0.494531</td>\n",
       "      <td>0.010156</td>\n",
       "      <td>0.017969</td>\n",
       "      <td>chevron_markers</td>\n",
       "      <td>0.000182</td>\n",
       "    </tr>\n",
       "    <tr>\n",
       "      <th>223</th>\n",
       "      <td>D:\\Personal\\sign_recognition\\notebooks\\..\\scri...</td>\n",
       "      <td>0.132031</td>\n",
       "      <td>0.304688</td>\n",
       "      <td>0.010937</td>\n",
       "      <td>0.017969</td>\n",
       "      <td>chevron_markers</td>\n",
       "      <td>0.000197</td>\n",
       "    </tr>\n",
       "    <tr>\n",
       "      <th>227</th>\n",
       "      <td>D:\\Personal\\sign_recognition\\notebooks\\..\\scri...</td>\n",
       "      <td>0.345313</td>\n",
       "      <td>0.325781</td>\n",
       "      <td>0.010937</td>\n",
       "      <td>0.01875</td>\n",
       "      <td>chevron_markers</td>\n",
       "      <td>0.000205</td>\n",
       "    </tr>\n",
       "    <tr>\n",
       "      <th>228</th>\n",
       "      <td>D:\\Personal\\sign_recognition\\notebooks\\..\\scri...</td>\n",
       "      <td>0.288281</td>\n",
       "      <td>0.326562</td>\n",
       "      <td>0.0125</td>\n",
       "      <td>0.017188</td>\n",
       "      <td>chevron_markers</td>\n",
       "      <td>0.000215</td>\n",
       "    </tr>\n",
       "    <tr>\n",
       "      <th>105</th>\n",
       "      <td>D:\\Personal\\sign_recognition\\notebooks\\..\\scri...</td>\n",
       "      <td>0.6</td>\n",
       "      <td>0.496875</td>\n",
       "      <td>0.010937</td>\n",
       "      <td>0.020313</td>\n",
       "      <td>chevron_markers</td>\n",
       "      <td>0.000222</td>\n",
       "    </tr>\n",
       "  </tbody>\n",
       "</table>\n",
       "</div>"
      ],
      "text/plain": [
       "                                                  path norm_x_center   \n",
       "106  D:\\Personal\\sign_recognition\\notebooks\\..\\scri...       0.66875  \\\n",
       "223  D:\\Personal\\sign_recognition\\notebooks\\..\\scri...      0.132031   \n",
       "227  D:\\Personal\\sign_recognition\\notebooks\\..\\scri...      0.345313   \n",
       "228  D:\\Personal\\sign_recognition\\notebooks\\..\\scri...      0.288281   \n",
       "105  D:\\Personal\\sign_recognition\\notebooks\\..\\scri...           0.6   \n",
       "\n",
       "    norm_y_center norm_width norm_height            label norm_area  \n",
       "106      0.494531   0.010156    0.017969  chevron_markers  0.000182  \n",
       "223      0.304688   0.010937    0.017969  chevron_markers  0.000197  \n",
       "227      0.325781   0.010937     0.01875  chevron_markers  0.000205  \n",
       "228      0.326562     0.0125    0.017188  chevron_markers  0.000215  \n",
       "105      0.496875   0.010937    0.020313  chevron_markers  0.000222  "
      ]
     },
     "execution_count": 24,
     "metadata": {},
     "output_type": "execute_result"
    }
   ],
   "source": [
    "df_sort_area = df.sort_values(by=[\"norm_area\"])\n",
    "df_sort_area.head()"
   ]
  },
  {
   "cell_type": "code",
   "execution_count": null,
   "id": "de65fdb0",
   "metadata": {},
   "outputs": [],
   "source": []
  }
 ],
 "metadata": {
  "kernelspec": {
   "display_name": "Python 3 (ipykernel)",
   "language": "python",
   "name": "python3"
  },
  "language_info": {
   "codemirror_mode": {
    "name": "ipython",
    "version": 3
   },
   "file_extension": ".py",
   "mimetype": "text/x-python",
   "name": "python",
   "nbconvert_exporter": "python",
   "pygments_lexer": "ipython3",
   "version": "3.11.0"
  }
 },
 "nbformat": 4,
 "nbformat_minor": 5
}
