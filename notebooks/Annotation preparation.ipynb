{
 "cells": [
  {
   "cell_type": "code",
   "execution_count": null,
   "id": "7e2d8ea2",
   "metadata": {},
   "outputs": [],
   "source": []
  },
  {
   "cell_type": "markdown",
   "id": "038e4bfc",
   "metadata": {},
   "source": [
    "## Sri Lanka traffic signs\n",
    "\n",
    "* [Workings](https://docs.google.com/spreadsheets/d/15fXtbgHBKAPI8CBayDigAc8J3YziJuIb3oU31b1i-p8/edit?usp=sharing).\n",
    "* [Moter traffic act of Sri Lanka](http://www.cmta.lk/downloads/Motor%20Traffic%20Act%20-%20Road%20Signs.pdf).\n"
   ]
  },
  {
   "cell_type": "code",
   "execution_count": null,
   "id": "cfa33051",
   "metadata": {},
   "outputs": [],
   "source": []
  }
 ],
 "metadata": {
  "kernelspec": {
   "display_name": "Python 3 (ipykernel)",
   "language": "python",
   "name": "python3"
  },
  "language_info": {
   "codemirror_mode": {
    "name": "ipython",
    "version": 3
   },
   "file_extension": ".py",
   "mimetype": "text/x-python",
   "name": "python",
   "nbconvert_exporter": "python",
   "pygments_lexer": "ipython3",
   "version": "3.10.8"
  }
 },
 "nbformat": 4,
 "nbformat_minor": 5
}
